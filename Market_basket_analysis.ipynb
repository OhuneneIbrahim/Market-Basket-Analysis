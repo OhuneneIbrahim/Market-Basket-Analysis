{
 "cells": [
  {
   "cell_type": "markdown",
   "id": "b65b7559",
   "metadata": {},
   "source": [
    "#  FLIT/ UTIVA Project \n",
    "# Project title: Market Basket Analysis"
   ]
  },
  {
   "cell_type": "markdown",
   "id": "b6267494",
   "metadata": {},
   "source": [
    "---\n",
    "\n",
    "\n",
    "**__Author__: Rabiat Ohunene Ibrahim**"
   ]
  },
  {
   "cell_type": "markdown",
   "id": "1f7ebde4",
   "metadata": {},
   "source": [
    "  ---\n",
    "\n",
    "## **Content**\n",
    "\n",
    "\n",
    "1. [Introduction](#intro)\n",
    "   - 1.1 [About the dataset](#about)\n",
    "   - 1.2 [Methodology](#method)\n",
    "   - 1.3 [Key insights](#key)\n",
    "\n",
    "\n",
    "2. [Data Wrangling](#wrang)\n",
    "    - 2.1 [Accessing](#access)\n",
    "    - 2.2 [Cleaning](#clean)\n",
    "    \n",
    "\n",
    "3. [Exploratory Data Analysis](#eda)\n",
    "   - 3.1 [Data preparation](#prep)\n",
    "   - 3.2 [Exploration](#explore)\n",
    "   - 3.2 [Visualization](#vis)\n",
    "\n",
    "   \n",
    "\n",
    "4. [Market Basket Analysis](#mba)\n",
    "   - 4.1 [Data Preprocessing](#Dprep)\n",
    "   - 4.2 [Data Encoding](#encod)\n",
    "   - 4.3 [Apriori transformation](#Apri)\n",
    "   - 4.4 [Rules table formation](#rule)\n",
    "   \n",
    "\n",
    "5. [Result Analysis](#mode)\n",
    "    - 5.1 [Metric analysis](#met)\n",
    "    - 5.2 [Item Network analysis](#net)\n",
    "    - 5.3 [Heat map analysis](#map)\n",
    "    \n",
    "\n",
    "6. [Recommendation and Conclusion](#con)\n",
    "    - 6.1 [Recommendation](#rec)\n",
    "    - 6.2 [Conclusion](#conl)"
   ]
  },
  {
   "cell_type": "markdown",
   "id": "018ecd9f",
   "metadata": {},
   "source": [
    "<a name=\"intro\"></a>\n",
    "# 1. Introduction\n",
    "---\n",
    "### Overview\n",
    "---\n",
    "Market basket analysis is a data mining method that enables retailers or shopping stores to improve their sales by understanding their customers' transaction patterns. All the customers’ daily transaction histories are recorded to create the dataset which is critically analysed to reveal product grouping and products that a likely to be bought together in one transaction. By identifying which products tend to be bought together, the company can make informed decisions to improve sales and customer satisfaction. For more information see [here](https://www.techtarget.com/searchcustomerexperience/definition/market-basket-analysis).\n",
    "\n",
    "\n",
    "<a name=\"about\"></a>\n",
    "## 1.1 About the Dataset\n",
    "---\n",
    "\n",
    "The Market basket dataset contains over 38,000 transactions made by customers shopping for groceries. The dataset timeline spans between 2014 and 2015. Below is a brief description of the dataset features: \n",
    "\n",
    "> Member_number:  Integer, contains the customers’ ID or number\n",
    "\n",
    "> Date: Object, recorded date of each transaction\n",
    "\n",
    "> ItemDescription: Object, the product purchased by the customer.\n"
   ]
  },
  {
   "cell_type": "markdown",
   "id": "514dbcac",
   "metadata": {},
   "source": [
    "<a name=\"method\"></a>\n",
    "   ## 1.2 Methodology\n",
    "   ---\n",
    "   ### (a) Objective of the Project\n",
    " The goal of this work is to perform market basket analysis to uncover patterns in customer purchasing behavior. To achieve this goal, we commenced with the following objectives:\n",
    "      \n",
    "   **(1.) Explore the dataset to understand some preliminary patterns such as:**\n",
    "   \n",
    "           (a) Mostly purchased items\n",
    "           (b) Monthly and yearly sales pattern\n",
    "         \n",
    "   **(2.) Perform market basket analysis to uncover products that a likely bought together.** \n",
    "   \n",
    "   **(3) Make recommendations based on our results.**\n",
    "\n",
    "   \n",
    "   ### (b) Method and Approach\n",
    "   \n",
    "We begin by performing the wrangling process on the dataset to familiarize and clean up the dataset. Next, we carried out the exploratory data analysis and highlighted some useful insights from the data. We further carried out data processing to prepare the data for the market basket analysis. We performed the market basket analysis and visualized our results.\n",
    "   \n",
    "   \n",
    "   ### (c) Tools used\n",
    "     (i) We used the TransactionEncoder to transform the dataset into a form understandable to the apriori algorithm.\n",
    "    (ii) Next, we used the Apriori algorithm to identify frequent items in the dataset which was then used to implement the association rule. We chose the Apriori algorithm because of its simplicity, ease of\n",
    "    implementation, and interpretability. \n",
    "    \n",
    "    (iii) We created our rule table by implementing association. \n",
    "    \n",
    "    (iii) We visualized the results obtained to gain insights and make recommendations\n",
    "     \n",
    "    \n",
    "<a name=\"key\"></a>\n",
    "   ## 1.3 Key insights\n",
    "   ---\n",
    "   > 1. In our exploration, the most frequently bought item was `whole milk` followed by `vegetables `and `buns`. The highest sales by the company happened in August 2015. We also noticed that the company made more transactions in 2015 compared to 2014.\n",
    "\n",
    " \n",
    " > 2. Our market basket analysis showed that `yogurt`, `whole milk`, and `sausage` are most likely to be bought together.\n"
   ]
  },
  {
   "cell_type": "markdown",
   "id": "97ab2d61",
   "metadata": {},
   "source": [
    "<a name=\"wrang\"></a>\n",
    "# **2. Data Wrangling**\n",
    "\n",
    "---\n",
    "<a name=\"access\"></a>\n",
    "## 2.1 Accessing:\n",
    "In this section, we load and access the data to check for missing, duplicated, and wrong data type."
   ]
  },
  {
   "cell_type": "code",
   "execution_count": 1,
   "id": "175c6c81",
   "metadata": {},
   "outputs": [],
   "source": [
    "#pip install mlxtend"
   ]
  },
  {
   "cell_type": "code",
   "execution_count": 2,
   "id": "ef570d92",
   "metadata": {},
   "outputs": [],
   "source": [
    "#Import all relevant libraries\n",
    "import pandas as pd\n",
    "import dateparser\n",
    "import seaborn as sns\n",
    "import datetime\n",
    "import numpy as np\n",
    "import matplotlib.pyplot as plt\n",
    "import networkx as nx \n",
    "%matplotlib inline\n",
    "from mlxtend.preprocessing import TransactionEncoder\n",
    "from mlxtend.frequent_patterns import apriori, association_rules"
   ]
  },
  {
   "cell_type": "code",
   "execution_count": 3,
   "id": "d48fea98",
   "metadata": {},
   "outputs": [],
   "source": [
    "#Loading in the datasets\n",
    "df = pd.read_csv(\"MBAG_DATA.csv\")"
   ]
  },
  {
   "cell_type": "code",
   "execution_count": 4,
   "id": "f191b888",
   "metadata": {},
   "outputs": [
    {
     "data": {
      "text/html": [
       "<div>\n",
       "<style scoped>\n",
       "    .dataframe tbody tr th:only-of-type {\n",
       "        vertical-align: middle;\n",
       "    }\n",
       "\n",
       "    .dataframe tbody tr th {\n",
       "        vertical-align: top;\n",
       "    }\n",
       "\n",
       "    .dataframe thead th {\n",
       "        text-align: right;\n",
       "    }\n",
       "</style>\n",
       "<table border=\"1\" class=\"dataframe\">\n",
       "  <thead>\n",
       "    <tr style=\"text-align: right;\">\n",
       "      <th></th>\n",
       "      <th>Member_number</th>\n",
       "      <th>Date</th>\n",
       "      <th>itemDescription</th>\n",
       "    </tr>\n",
       "  </thead>\n",
       "  <tbody>\n",
       "    <tr>\n",
       "      <th>0</th>\n",
       "      <td>1808</td>\n",
       "      <td>21-07-2015</td>\n",
       "      <td>tropical fruit</td>\n",
       "    </tr>\n",
       "    <tr>\n",
       "      <th>1</th>\n",
       "      <td>2552</td>\n",
       "      <td>05-01-2015</td>\n",
       "      <td>whole milk</td>\n",
       "    </tr>\n",
       "    <tr>\n",
       "      <th>2</th>\n",
       "      <td>2300</td>\n",
       "      <td>19-09-2015</td>\n",
       "      <td>pip fruit</td>\n",
       "    </tr>\n",
       "    <tr>\n",
       "      <th>3</th>\n",
       "      <td>1187</td>\n",
       "      <td>12-12-2015</td>\n",
       "      <td>other vegetables</td>\n",
       "    </tr>\n",
       "    <tr>\n",
       "      <th>4</th>\n",
       "      <td>3037</td>\n",
       "      <td>01-02-2015</td>\n",
       "      <td>whole milk</td>\n",
       "    </tr>\n",
       "  </tbody>\n",
       "</table>\n",
       "</div>"
      ],
      "text/plain": [
       "   Member_number        Date   itemDescription\n",
       "0           1808  21-07-2015    tropical fruit\n",
       "1           2552  05-01-2015        whole milk\n",
       "2           2300  19-09-2015         pip fruit\n",
       "3           1187  12-12-2015  other vegetables\n",
       "4           3037  01-02-2015        whole milk"
      ]
     },
     "execution_count": 4,
     "metadata": {},
     "output_type": "execute_result"
    }
   ],
   "source": [
    "#Check out the first few columns\n",
    "df.head()"
   ]
  },
  {
   "cell_type": "code",
   "execution_count": 5,
   "id": "f73462f2",
   "metadata": {},
   "outputs": [
    {
     "name": "stdout",
     "output_type": "stream",
     "text": [
      "<class 'pandas.core.frame.DataFrame'>\n",
      "RangeIndex: 38765 entries, 0 to 38764\n",
      "Data columns (total 3 columns):\n",
      " #   Column           Non-Null Count  Dtype \n",
      "---  ------           --------------  ----- \n",
      " 0   Member_number    38765 non-null  int64 \n",
      " 1   Date             38765 non-null  object\n",
      " 2   itemDescription  38765 non-null  object\n",
      "dtypes: int64(1), object(2)\n",
      "memory usage: 908.7+ KB\n"
     ]
    }
   ],
   "source": [
    "# Checking out the data info and datatype\n",
    "df.info()"
   ]
  },
  {
   "cell_type": "markdown",
   "id": "976defda",
   "metadata": {},
   "source": [
    "***prob1: We noticed that the date column is using the object datatype instead of datetime.***"
   ]
  },
  {
   "cell_type": "code",
   "execution_count": 6,
   "id": "09bacead",
   "metadata": {},
   "outputs": [
    {
     "data": {
      "text/plain": [
       "Member_number      0\n",
       "Date               0\n",
       "itemDescription    0\n",
       "dtype: int64"
      ]
     },
     "execution_count": 6,
     "metadata": {},
     "output_type": "execute_result"
    }
   ],
   "source": [
    "# Checking for missing values\n",
    "df.isna().sum()"
   ]
  },
  {
   "cell_type": "code",
   "execution_count": 7,
   "id": "4815bb30",
   "metadata": {},
   "outputs": [
    {
     "data": {
      "text/plain": [
       "759"
      ]
     },
     "execution_count": 7,
     "metadata": {},
     "output_type": "execute_result"
    }
   ],
   "source": [
    "# Checking for duplicated values\n",
    "df.duplicated().sum()"
   ]
  },
  {
   "cell_type": "markdown",
   "id": "9133cec4",
   "metadata": {},
   "source": [
    "***prob2: There are 759 duplicated values in the dataset***"
   ]
  },
  {
   "cell_type": "code",
   "execution_count": 8,
   "id": "4cee16e7",
   "metadata": {},
   "outputs": [
    {
     "data": {
      "text/plain": [
       "(38765, 3)"
      ]
     },
     "execution_count": 8,
     "metadata": {},
     "output_type": "execute_result"
    }
   ],
   "source": [
    "# Checking the shape of the dataset\n",
    "df.shape"
   ]
  },
  {
   "cell_type": "markdown",
   "id": "7b94427e",
   "metadata": {},
   "source": [
    "<a name=\"clean\"></a>\n",
    "### 2.2 Cleaning: \n",
    "---\n",
    "Some cleaning requirements for the dataset are as listed:\n",
    "\n",
    "> a. Converting date from `Object` to `datetime` datatype.\n",
    "\n",
    "> b. Drop all duplicated values."
   ]
  },
  {
   "cell_type": "code",
   "execution_count": 9,
   "id": "d2c06e89",
   "metadata": {},
   "outputs": [
    {
     "name": "stderr",
     "output_type": "stream",
     "text": [
      "/var/folders/_9/z4llrcqd0y122r7_nwdcm5900000gn/T/ipykernel_79791/2305791711.py:2: UserWarning: Parsing dates in DD/MM/YYYY format when dayfirst=False (the default) was specified. This may lead to inconsistently parsed dates! Specify a format to ensure consistent parsing.\n",
      "  df[\"Date\"] = pd.to_datetime(df[\"Date\"])\n"
     ]
    }
   ],
   "source": [
    "# Converting to datetime\n",
    "df[\"Date\"] = pd.to_datetime(df[\"Date\"])"
   ]
  },
  {
   "cell_type": "code",
   "execution_count": 10,
   "id": "351b1a5c",
   "metadata": {},
   "outputs": [
    {
     "name": "stdout",
     "output_type": "stream",
     "text": [
      "<class 'pandas.core.frame.DataFrame'>\n",
      "RangeIndex: 38765 entries, 0 to 38764\n",
      "Data columns (total 3 columns):\n",
      " #   Column           Non-Null Count  Dtype         \n",
      "---  ------           --------------  -----         \n",
      " 0   Member_number    38765 non-null  int64         \n",
      " 1   Date             38765 non-null  datetime64[ns]\n",
      " 2   itemDescription  38765 non-null  object        \n",
      "dtypes: datetime64[ns](1), int64(1), object(1)\n",
      "memory usage: 908.7+ KB\n"
     ]
    }
   ],
   "source": [
    "# Checking to see Date in datetime datatype\n",
    "df.info()"
   ]
  },
  {
   "cell_type": "code",
   "execution_count": 11,
   "id": "2224ba87",
   "metadata": {},
   "outputs": [],
   "source": [
    "# Dropping duplicated values\n",
    "df = df.drop_duplicates()"
   ]
  },
  {
   "cell_type": "code",
   "execution_count": 12,
   "id": "9882b34e",
   "metadata": {},
   "outputs": [],
   "source": [
    "# checking if all duplicated values are drop\n",
    "assert df.duplicated().sum() ==0"
   ]
  },
  {
   "cell_type": "markdown",
   "id": "6bbdafbf",
   "metadata": {},
   "source": [
    "<a name=\"eda\"></a>\n",
    "# 3. Exploratory Data Analysis\n",
    "\n",
    "---\n",
    "<a name=\"prep\"></a>\n",
    "## 3.1 Data preparation\n",
    "\n",
    "1. Extraction of the `Day`, `Month` and `Year` variables from the date feature."
   ]
  },
  {
   "cell_type": "code",
   "execution_count": 13,
   "id": "757f90a9",
   "metadata": {},
   "outputs": [],
   "source": [
    "# Extracting the day, month and year\n",
    "\n",
    "df['day'] = df['Date'].dt.day\n",
    "df['month'] = df['Date'].dt.strftime('%b')\n",
    "df['year'] = df['Date'].dt.year"
   ]
  },
  {
   "cell_type": "code",
   "execution_count": 14,
   "id": "34b75d9a",
   "metadata": {},
   "outputs": [
    {
     "data": {
      "text/html": [
       "<div>\n",
       "<style scoped>\n",
       "    .dataframe tbody tr th:only-of-type {\n",
       "        vertical-align: middle;\n",
       "    }\n",
       "\n",
       "    .dataframe tbody tr th {\n",
       "        vertical-align: top;\n",
       "    }\n",
       "\n",
       "    .dataframe thead th {\n",
       "        text-align: right;\n",
       "    }\n",
       "</style>\n",
       "<table border=\"1\" class=\"dataframe\">\n",
       "  <thead>\n",
       "    <tr style=\"text-align: right;\">\n",
       "      <th></th>\n",
       "      <th>Member_number</th>\n",
       "      <th>Date</th>\n",
       "      <th>itemDescription</th>\n",
       "      <th>day</th>\n",
       "      <th>month</th>\n",
       "      <th>year</th>\n",
       "    </tr>\n",
       "  </thead>\n",
       "  <tbody>\n",
       "    <tr>\n",
       "      <th>0</th>\n",
       "      <td>1808</td>\n",
       "      <td>2015-07-21</td>\n",
       "      <td>tropical fruit</td>\n",
       "      <td>21</td>\n",
       "      <td>Jul</td>\n",
       "      <td>2015</td>\n",
       "    </tr>\n",
       "    <tr>\n",
       "      <th>1</th>\n",
       "      <td>2552</td>\n",
       "      <td>2015-05-01</td>\n",
       "      <td>whole milk</td>\n",
       "      <td>1</td>\n",
       "      <td>May</td>\n",
       "      <td>2015</td>\n",
       "    </tr>\n",
       "    <tr>\n",
       "      <th>2</th>\n",
       "      <td>2300</td>\n",
       "      <td>2015-09-19</td>\n",
       "      <td>pip fruit</td>\n",
       "      <td>19</td>\n",
       "      <td>Sep</td>\n",
       "      <td>2015</td>\n",
       "    </tr>\n",
       "    <tr>\n",
       "      <th>3</th>\n",
       "      <td>1187</td>\n",
       "      <td>2015-12-12</td>\n",
       "      <td>other vegetables</td>\n",
       "      <td>12</td>\n",
       "      <td>Dec</td>\n",
       "      <td>2015</td>\n",
       "    </tr>\n",
       "    <tr>\n",
       "      <th>4</th>\n",
       "      <td>3037</td>\n",
       "      <td>2015-01-02</td>\n",
       "      <td>whole milk</td>\n",
       "      <td>2</td>\n",
       "      <td>Jan</td>\n",
       "      <td>2015</td>\n",
       "    </tr>\n",
       "  </tbody>\n",
       "</table>\n",
       "</div>"
      ],
      "text/plain": [
       "   Member_number       Date   itemDescription  day month  year\n",
       "0           1808 2015-07-21    tropical fruit   21   Jul  2015\n",
       "1           2552 2015-05-01        whole milk    1   May  2015\n",
       "2           2300 2015-09-19         pip fruit   19   Sep  2015\n",
       "3           1187 2015-12-12  other vegetables   12   Dec  2015\n",
       "4           3037 2015-01-02        whole milk    2   Jan  2015"
      ]
     },
     "execution_count": 14,
     "metadata": {},
     "output_type": "execute_result"
    }
   ],
   "source": [
    "# Viewing the first few columns of the transformed dataset\n",
    "df.head()"
   ]
  },
  {
   "cell_type": "markdown",
   "id": "b78847a5",
   "metadata": {},
   "source": [
    "<a name=\"explore\"></a>\n",
    "## 3.2 Exploration\n",
    "---"
   ]
  },
  {
   "cell_type": "code",
   "execution_count": 15,
   "id": "60217fce",
   "metadata": {},
   "outputs": [
    {
     "data": {
      "text/plain": [
       "3898"
      ]
     },
     "execution_count": 15,
     "metadata": {},
     "output_type": "execute_result"
    }
   ],
   "source": [
    "# Checking the numbers of unique customers\n",
    "df.Member_number.nunique()"
   ]
  },
  {
   "cell_type": "code",
   "execution_count": 16,
   "id": "462816a3",
   "metadata": {},
   "outputs": [
    {
     "data": {
      "text/plain": [
       "167"
      ]
     },
     "execution_count": 16,
     "metadata": {},
     "output_type": "execute_result"
    }
   ],
   "source": [
    "# Numbers of unique items\n",
    "df.itemDescription.nunique()"
   ]
  },
  {
   "cell_type": "code",
   "execution_count": 17,
   "id": "7d2cfc4c",
   "metadata": {},
   "outputs": [],
   "source": [
    "# Convert members number to string for easy analysis\n",
    "df[\"Member_number\"] = df[\"Member_number\"].astype(\"str\")"
   ]
  },
  {
   "cell_type": "code",
   "execution_count": 18,
   "id": "b3361f13",
   "metadata": {},
   "outputs": [
    {
     "data": {
      "text/plain": [
       "3180    35\n",
       "3737    33\n",
       "3050    32\n",
       "2051    31\n",
       "3915    30\n",
       "2433    30\n",
       "2625    30\n",
       "2851    29\n",
       "2394    29\n",
       "3872    29\n",
       "Name: Member_number, dtype: int64"
      ]
     },
     "execution_count": 18,
     "metadata": {},
     "output_type": "execute_result"
    }
   ],
   "source": [
    "# Checking the 10 most frequent customer to the store\n",
    "df[\"Member_number\"].value_counts().nlargest(10)"
   ]
  },
  {
   "cell_type": "markdown",
   "id": "b9b1d6ff",
   "metadata": {},
   "source": [
    "<a name=\"vis\"></a>\n",
    "## 3.3 Visualizations\n",
    "**In this section, we aim to answer the following questions:**\n",
    "\n",
    "    (1) Which items are most frequently bought?\n",
    "    (2) How are the monthly variation sales between 2014 and 2015?   \n",
    "    (3) Which customers make the most frequent transactions?"
   ]
  },
  {
   "cell_type": "markdown",
   "id": "ffb0bba8",
   "metadata": {},
   "source": [
    "## 1. Which item is most frequently bought?."
   ]
  },
  {
   "cell_type": "code",
   "execution_count": 19,
   "id": "06cb57bf",
   "metadata": {},
   "outputs": [
    {
     "data": {
      "image/png": "[encoded data removed]",
      "text/plain": [
       "<Figure size 1000x500 with 1 Axes>"
      ]
     },
     "metadata": {},
     "output_type": "display_data"
    }
   ],
   "source": [
    "plt.figure(figsize=(10, 5))\n",
    "df[\"itemDescription\"].value_counts().nlargest(40).plot(kind= \"bar\")\n",
    "plt.title(\"Some mostly bought item\")\n",
    "plt.xlabel(\"Item\")\n",
    "plt.ylabel(\"counts\")\n",
    "plt.show()"
   ]
  },
  {
   "cell_type": "markdown",
   "id": "58b414d9",
   "metadata": {},
   "source": [
    "**Insight**\n",
    "    \n",
    "    We observed that the products like whole milk, vegetables, buns, soda, yogurt fruits, water, sausages, and \n",
    "    so on are the most frequently bought items. "
   ]
  },
  {
   "cell_type": "markdown",
   "id": "432ed277",
   "metadata": {},
   "source": [
    "## 2. How is the monthly variation sales between 2014 and 2015?"
   ]
  },
  {
   "cell_type": "code",
   "execution_count": 20,
   "id": "65c0f4ce",
   "metadata": {},
   "outputs": [
    {
     "data": {
      "image/png": "[encoded data removed]",
      "text/plain": [
       "<Figure size 1000x500 with 1 Axes>"
      ]
     },
     "metadata": {},
     "output_type": "display_data"
    }
   ],
   "source": [
    "month_order = ['Jan', 'Feb', 'Mar', 'Apr', 'May', 'Jun', 'Jul', 'Aug', 'Sep', 'Oct', 'Nov', 'Dec']\n",
    "df['month'] = pd.Categorical(df['month'], categories=month_order, ordered=True)\n",
    "\n",
    "# Sort the DataFrame based on the categorical order\n",
    "df = df.sort_values('month')\n",
    "\n",
    "plt.figure(figsize=(10, 5))\n",
    "monthdf=df.groupby([\"month\", \"year\"])['itemDescription'].count().reset_index()\n",
    "sns.barplot(data=monthdf, x= \"month\", y = \"itemDescription\")\n",
    "plt.title(\"Variation of monthly sales\")\n",
    "plt.xlabel(\"Month\")\n",
    "plt.ylabel(\"Number of Item sold\")\n",
    "plt.show()"
   ]
  },
  {
   "cell_type": "markdown",
   "id": "06836c83",
   "metadata": {},
   "source": [
    "**Insight**\n",
    "\n",
    "    We observe that the company made most of its sales in August and January."
   ]
  },
  {
   "cell_type": "code",
   "execution_count": 21,
   "id": "f18ae009",
   "metadata": {},
   "outputs": [
    {
     "data": {
      "image/png": "[encoded data removed]",
      "text/plain": [
       "<Figure size 1000x500 with 1 Axes>"
      ]
     },
     "metadata": {},
     "output_type": "display_data"
    }
   ],
   "source": [
    "plt.figure(figsize=(10, 5))\n",
    "monthdf=df.groupby([\"month\", \"year\"])['itemDescription'].count().reset_index()\n",
    "sns.barplot(data=monthdf, x= \"month\", y = \"itemDescription\", hue = \"year\")\n",
    "plt.title(\"Variation of monthly sales on for 2014 and 2015\")\n",
    "plt.xlabel(\"Month\")\n",
    "plt.ylabel(\"Number of Item sold\")\n",
    "plt.show()"
   ]
  },
  {
   "cell_type": "markdown",
   "id": "60d13d37",
   "metadata": {},
   "source": [
    " **Insight**\n",
    " \n",
    "   We observed that the company sold more items in 2015 than in 2014. In 2014 the most sales were made in May while in 2015 the company made its highest sales in August."
   ]
  },
  {
   "cell_type": "code",
   "execution_count": 22,
   "id": "7b249551",
   "metadata": {},
   "outputs": [
    {
     "data": {
      "image/png": "[encoded data removed]",
      "text/plain": [
       "<Figure size 1000x500 with 1 Axes>"
      ]
     },
     "metadata": {},
     "output_type": "display_data"
    }
   ],
   "source": [
    "plt.figure(figsize=(10, 5))\n",
    "df[\"Member_number\"].value_counts().nlargest().plot(kind= \"bar\")\n",
    "plt.title(\"Most frequent customer\")\n",
    "plt.xlabel(\"Member number\")\n",
    "plt.ylabel(\"counts\")\n",
    "plt.show()"
   ]
  },
  {
   "cell_type": "markdown",
   "id": "ae0e7eb7",
   "metadata": {},
   "source": [
    "**Insight**\n",
    "\n",
    "The plot shows the 5 most frequent customers to the shop."
   ]
  },
  {
   "cell_type": "markdown",
   "id": "0b65f3de",
   "metadata": {},
   "source": [
    "<a name=\"mba\"></a>\n",
    "\n",
    "# 4. Market Basket Analysis\n",
    "---"
   ]
  },
  {
   "cell_type": "markdown",
   "id": "96a6cdfd",
   "metadata": {},
   "source": [
    "<a name=\"Dprep\"></a>\n",
    "## 4.1 Data Preprocessing"
   ]
  },
  {
   "cell_type": "code",
   "execution_count": 23,
   "id": "3cf4f4d3",
   "metadata": {},
   "outputs": [],
   "source": [
    "# Group the items by Member_number and Date\n",
    "basket_df = df.groupby(['Member_number', 'Date'])['itemDescription'].apply(list).reset_index()"
   ]
  },
  {
   "cell_type": "code",
   "execution_count": 24,
   "id": "2eea7137",
   "metadata": {},
   "outputs": [
    {
     "data": {
      "text/plain": [
       "(14963, 3)"
      ]
     },
     "execution_count": 24,
     "metadata": {},
     "output_type": "execute_result"
    }
   ],
   "source": [
    "basket_df.shape"
   ]
  },
  {
   "cell_type": "markdown",
   "id": "2dfbe160",
   "metadata": {},
   "source": [
    "<a name=\"encod\"></a>\n",
    "## 4.3 Data Encoding\n",
    "---"
   ]
  },
  {
   "cell_type": "code",
   "execution_count": 25,
   "id": "6241dabf",
   "metadata": {},
   "outputs": [],
   "source": [
    "# Encoding the dataset\n",
    "encoder = TransactionEncoder()\n",
    "transaction_array = encoder.fit(basket_df['itemDescription']).transform(basket_df['itemDescription'])\n",
    "transaction_df = pd.DataFrame(transaction_array, columns=encoder.columns_)"
   ]
  },
  {
   "cell_type": "code",
   "execution_count": 26,
   "id": "f8d46f46",
   "metadata": {},
   "outputs": [],
   "source": [
    "# Including the member number in the transaction data\n",
    "transaction_df.index =  basket_df['Member_number']"
   ]
  },
  {
   "cell_type": "code",
   "execution_count": 27,
   "id": "f66f24b3",
   "metadata": {},
   "outputs": [
    {
     "data": {
      "text/html": [
       "<div>\n",
       "<style scoped>\n",
       "    .dataframe tbody tr th:only-of-type {\n",
       "        vertical-align: middle;\n",
       "    }\n",
       "\n",
       "    .dataframe tbody tr th {\n",
       "        vertical-align: top;\n",
       "    }\n",
       "\n",
       "    .dataframe thead th {\n",
       "        text-align: right;\n",
       "    }\n",
       "</style>\n",
       "<table border=\"1\" class=\"dataframe\">\n",
       "  <thead>\n",
       "    <tr style=\"text-align: right;\">\n",
       "      <th></th>\n",
       "      <th>Instant food products</th>\n",
       "      <th>UHT-milk</th>\n",
       "      <th>abrasive cleaner</th>\n",
       "      <th>artif. sweetener</th>\n",
       "      <th>baby cosmetics</th>\n",
       "      <th>bags</th>\n",
       "      <th>baking powder</th>\n",
       "      <th>bathroom cleaner</th>\n",
       "      <th>beef</th>\n",
       "      <th>berries</th>\n",
       "      <th>...</th>\n",
       "      <th>turkey</th>\n",
       "      <th>vinegar</th>\n",
       "      <th>waffles</th>\n",
       "      <th>whipped/sour cream</th>\n",
       "      <th>whisky</th>\n",
       "      <th>white bread</th>\n",
       "      <th>white wine</th>\n",
       "      <th>whole milk</th>\n",
       "      <th>yogurt</th>\n",
       "      <th>zwieback</th>\n",
       "    </tr>\n",
       "    <tr>\n",
       "      <th>Member_number</th>\n",
       "      <th></th>\n",
       "      <th></th>\n",
       "      <th></th>\n",
       "      <th></th>\n",
       "      <th></th>\n",
       "      <th></th>\n",
       "      <th></th>\n",
       "      <th></th>\n",
       "      <th></th>\n",
       "      <th></th>\n",
       "      <th></th>\n",
       "      <th></th>\n",
       "      <th></th>\n",
       "      <th></th>\n",
       "      <th></th>\n",
       "      <th></th>\n",
       "      <th></th>\n",
       "      <th></th>\n",
       "      <th></th>\n",
       "      <th></th>\n",
       "      <th></th>\n",
       "    </tr>\n",
       "  </thead>\n",
       "  <tbody>\n",
       "    <tr>\n",
       "      <th>1000</th>\n",
       "      <td>False</td>\n",
       "      <td>False</td>\n",
       "      <td>False</td>\n",
       "      <td>False</td>\n",
       "      <td>False</td>\n",
       "      <td>False</td>\n",
       "      <td>False</td>\n",
       "      <td>False</td>\n",
       "      <td>False</td>\n",
       "      <td>False</td>\n",
       "      <td>...</td>\n",
       "      <td>False</td>\n",
       "      <td>False</td>\n",
       "      <td>False</td>\n",
       "      <td>False</td>\n",
       "      <td>False</td>\n",
       "      <td>False</td>\n",
       "      <td>False</td>\n",
       "      <td>True</td>\n",
       "      <td>False</td>\n",
       "      <td>False</td>\n",
       "    </tr>\n",
       "    <tr>\n",
       "      <th>1000</th>\n",
       "      <td>False</td>\n",
       "      <td>False</td>\n",
       "      <td>False</td>\n",
       "      <td>False</td>\n",
       "      <td>False</td>\n",
       "      <td>False</td>\n",
       "      <td>False</td>\n",
       "      <td>False</td>\n",
       "      <td>False</td>\n",
       "      <td>False</td>\n",
       "      <td>...</td>\n",
       "      <td>False</td>\n",
       "      <td>False</td>\n",
       "      <td>False</td>\n",
       "      <td>False</td>\n",
       "      <td>False</td>\n",
       "      <td>False</td>\n",
       "      <td>False</td>\n",
       "      <td>True</td>\n",
       "      <td>True</td>\n",
       "      <td>False</td>\n",
       "    </tr>\n",
       "    <tr>\n",
       "      <th>1000</th>\n",
       "      <td>False</td>\n",
       "      <td>False</td>\n",
       "      <td>False</td>\n",
       "      <td>False</td>\n",
       "      <td>False</td>\n",
       "      <td>False</td>\n",
       "      <td>False</td>\n",
       "      <td>False</td>\n",
       "      <td>False</td>\n",
       "      <td>False</td>\n",
       "      <td>...</td>\n",
       "      <td>False</td>\n",
       "      <td>False</td>\n",
       "      <td>False</td>\n",
       "      <td>False</td>\n",
       "      <td>False</td>\n",
       "      <td>False</td>\n",
       "      <td>False</td>\n",
       "      <td>False</td>\n",
       "      <td>False</td>\n",
       "      <td>False</td>\n",
       "    </tr>\n",
       "    <tr>\n",
       "      <th>1000</th>\n",
       "      <td>False</td>\n",
       "      <td>False</td>\n",
       "      <td>False</td>\n",
       "      <td>False</td>\n",
       "      <td>False</td>\n",
       "      <td>False</td>\n",
       "      <td>False</td>\n",
       "      <td>False</td>\n",
       "      <td>False</td>\n",
       "      <td>False</td>\n",
       "      <td>...</td>\n",
       "      <td>False</td>\n",
       "      <td>False</td>\n",
       "      <td>False</td>\n",
       "      <td>False</td>\n",
       "      <td>False</td>\n",
       "      <td>False</td>\n",
       "      <td>False</td>\n",
       "      <td>False</td>\n",
       "      <td>False</td>\n",
       "      <td>False</td>\n",
       "    </tr>\n",
       "    <tr>\n",
       "      <th>1000</th>\n",
       "      <td>False</td>\n",
       "      <td>False</td>\n",
       "      <td>False</td>\n",
       "      <td>False</td>\n",
       "      <td>False</td>\n",
       "      <td>False</td>\n",
       "      <td>False</td>\n",
       "      <td>False</td>\n",
       "      <td>False</td>\n",
       "      <td>False</td>\n",
       "      <td>...</td>\n",
       "      <td>False</td>\n",
       "      <td>False</td>\n",
       "      <td>False</td>\n",
       "      <td>False</td>\n",
       "      <td>False</td>\n",
       "      <td>False</td>\n",
       "      <td>False</td>\n",
       "      <td>False</td>\n",
       "      <td>False</td>\n",
       "      <td>False</td>\n",
       "    </tr>\n",
       "  </tbody>\n",
       "</table>\n",
       "<p>5 rows × 167 columns</p>\n",
       "</div>"
      ],
      "text/plain": [
       "               Instant food products  UHT-milk  abrasive cleaner  \\\n",
       "Member_number                                                      \n",
       "1000                           False     False             False   \n",
       "1000                           False     False             False   \n",
       "1000                           False     False             False   \n",
       "1000                           False     False             False   \n",
       "1000                           False     False             False   \n",
       "\n",
       "               artif. sweetener  baby cosmetics   bags  baking powder  \\\n",
       "Member_number                                                           \n",
       "1000                      False           False  False          False   \n",
       "1000                      False           False  False          False   \n",
       "1000                      False           False  False          False   \n",
       "1000                      False           False  False          False   \n",
       "1000                      False           False  False          False   \n",
       "\n",
       "               bathroom cleaner   beef  berries  ...  turkey  vinegar  \\\n",
       "Member_number                                    ...                    \n",
       "1000                      False  False    False  ...   False    False   \n",
       "1000                      False  False    False  ...   False    False   \n",
       "1000                      False  False    False  ...   False    False   \n",
       "1000                      False  False    False  ...   False    False   \n",
       "1000                      False  False    False  ...   False    False   \n",
       "\n",
       "               waffles  whipped/sour cream  whisky  white bread  white wine  \\\n",
       "Member_number                                                                 \n",
       "1000             False               False   False        False       False   \n",
       "1000             False               False   False        False       False   \n",
       "1000             False               False   False        False       False   \n",
       "1000             False               False   False        False       False   \n",
       "1000             False               False   False        False       False   \n",
       "\n",
       "               whole milk  yogurt  zwieback  \n",
       "Member_number                                \n",
       "1000                 True   False     False  \n",
       "1000                 True    True     False  \n",
       "1000                False   False     False  \n",
       "1000                False   False     False  \n",
       "1000                False   False     False  \n",
       "\n",
       "[5 rows x 167 columns]"
      ]
     },
     "execution_count": 27,
     "metadata": {},
     "output_type": "execute_result"
    }
   ],
   "source": [
    "# Viewing the first few columns of the transaction data\n",
    "transaction_df.head()"
   ]
  },
  {
   "cell_type": "markdown",
   "id": "235d5d72",
   "metadata": {},
   "source": [
    "<a name=\"Apri\"></a>\n",
    "## 4.4 Apriori transformation\n",
    "---"
   ]
  },
  {
   "cell_type": "code",
   "execution_count": 28,
   "id": "3502197c",
   "metadata": {},
   "outputs": [],
   "source": [
    "# Extracting the most frequent item in the dataset using Apriori\n",
    "frequent_itemsets = apriori(transaction_df, min_support=0.001, use_colnames=True)"
   ]
  },
  {
   "cell_type": "code",
   "execution_count": 29,
   "id": "af9d2ce3",
   "metadata": {},
   "outputs": [
    {
     "data": {
      "text/html": [
       "<div>\n",
       "<style scoped>\n",
       "    .dataframe tbody tr th:only-of-type {\n",
       "        vertical-align: middle;\n",
       "    }\n",
       "\n",
       "    .dataframe tbody tr th {\n",
       "        vertical-align: top;\n",
       "    }\n",
       "\n",
       "    .dataframe thead th {\n",
       "        text-align: right;\n",
       "    }\n",
       "</style>\n",
       "<table border=\"1\" class=\"dataframe\">\n",
       "  <thead>\n",
       "    <tr style=\"text-align: right;\">\n",
       "      <th></th>\n",
       "      <th>support</th>\n",
       "      <th>itemsets</th>\n",
       "    </tr>\n",
       "  </thead>\n",
       "  <tbody>\n",
       "    <tr>\n",
       "      <th>0</th>\n",
       "      <td>0.004010</td>\n",
       "      <td>(Instant food products)</td>\n",
       "    </tr>\n",
       "    <tr>\n",
       "      <th>1</th>\n",
       "      <td>0.021386</td>\n",
       "      <td>(UHT-milk)</td>\n",
       "    </tr>\n",
       "    <tr>\n",
       "      <th>2</th>\n",
       "      <td>0.001470</td>\n",
       "      <td>(abrasive cleaner)</td>\n",
       "    </tr>\n",
       "    <tr>\n",
       "      <th>3</th>\n",
       "      <td>0.001938</td>\n",
       "      <td>(artif. sweetener)</td>\n",
       "    </tr>\n",
       "    <tr>\n",
       "      <th>4</th>\n",
       "      <td>0.008087</td>\n",
       "      <td>(baking powder)</td>\n",
       "    </tr>\n",
       "    <tr>\n",
       "      <th>...</th>\n",
       "      <td>...</td>\n",
       "      <td>...</td>\n",
       "    </tr>\n",
       "    <tr>\n",
       "      <th>745</th>\n",
       "      <td>0.001136</td>\n",
       "      <td>(sausage, rolls/buns, whole milk)</td>\n",
       "    </tr>\n",
       "    <tr>\n",
       "      <th>746</th>\n",
       "      <td>0.001002</td>\n",
       "      <td>(rolls/buns, soda, whole milk)</td>\n",
       "    </tr>\n",
       "    <tr>\n",
       "      <th>747</th>\n",
       "      <td>0.001337</td>\n",
       "      <td>(yogurt, rolls/buns, whole milk)</td>\n",
       "    </tr>\n",
       "    <tr>\n",
       "      <th>748</th>\n",
       "      <td>0.001069</td>\n",
       "      <td>(sausage, soda, whole milk)</td>\n",
       "    </tr>\n",
       "    <tr>\n",
       "      <th>749</th>\n",
       "      <td>0.001470</td>\n",
       "      <td>(sausage, yogurt, whole milk)</td>\n",
       "    </tr>\n",
       "  </tbody>\n",
       "</table>\n",
       "<p>750 rows × 2 columns</p>\n",
       "</div>"
      ],
      "text/plain": [
       "      support                           itemsets\n",
       "0    0.004010            (Instant food products)\n",
       "1    0.021386                         (UHT-milk)\n",
       "2    0.001470                 (abrasive cleaner)\n",
       "3    0.001938                 (artif. sweetener)\n",
       "4    0.008087                    (baking powder)\n",
       "..        ...                                ...\n",
       "745  0.001136  (sausage, rolls/buns, whole milk)\n",
       "746  0.001002     (rolls/buns, soda, whole milk)\n",
       "747  0.001337   (yogurt, rolls/buns, whole milk)\n",
       "748  0.001069        (sausage, soda, whole milk)\n",
       "749  0.001470      (sausage, yogurt, whole milk)\n",
       "\n",
       "[750 rows x 2 columns]"
      ]
     },
     "execution_count": 29,
     "metadata": {},
     "output_type": "execute_result"
    }
   ],
   "source": [
    "# Visualizing the data\n",
    "frequent_itemsets"
   ]
  },
  {
   "cell_type": "markdown",
   "id": "4431f821",
   "metadata": {},
   "source": [
    "<a name=\"rule\"></a>\n",
    "## 4.4 Rules table formation\n",
    "---"
   ]
  },
  {
   "cell_type": "code",
   "execution_count": 30,
   "id": "085847c9",
   "metadata": {},
   "outputs": [],
   "source": [
    "# Performing the association rules \n",
    "my_rules = association_rules(frequent_itemsets, metric='lift', min_threshold=1)"
   ]
  },
  {
   "cell_type": "code",
   "execution_count": 31,
   "id": "244c6dbf",
   "metadata": {},
   "outputs": [
    {
     "data": {
      "text/html": [
       "<div>\n",
       "<style scoped>\n",
       "    .dataframe tbody tr th:only-of-type {\n",
       "        vertical-align: middle;\n",
       "    }\n",
       "\n",
       "    .dataframe tbody tr th {\n",
       "        vertical-align: top;\n",
       "    }\n",
       "\n",
       "    .dataframe thead th {\n",
       "        text-align: right;\n",
       "    }\n",
       "</style>\n",
       "<table border=\"1\" class=\"dataframe\">\n",
       "  <thead>\n",
       "    <tr style=\"text-align: right;\">\n",
       "      <th></th>\n",
       "      <th>antecedents</th>\n",
       "      <th>consequents</th>\n",
       "      <th>antecedent support</th>\n",
       "      <th>consequent support</th>\n",
       "      <th>support</th>\n",
       "      <th>confidence</th>\n",
       "      <th>lift</th>\n",
       "      <th>leverage</th>\n",
       "      <th>conviction</th>\n",
       "      <th>zhangs_metric</th>\n",
       "    </tr>\n",
       "  </thead>\n",
       "  <tbody>\n",
       "    <tr>\n",
       "      <th>0</th>\n",
       "      <td>(tropical fruit)</td>\n",
       "      <td>(UHT-milk)</td>\n",
       "      <td>0.067767</td>\n",
       "      <td>0.021386</td>\n",
       "      <td>0.001537</td>\n",
       "      <td>0.022682</td>\n",
       "      <td>1.060617</td>\n",
       "      <td>8.785064e-05</td>\n",
       "      <td>1.001326</td>\n",
       "      <td>0.061307</td>\n",
       "    </tr>\n",
       "    <tr>\n",
       "      <th>1</th>\n",
       "      <td>(UHT-milk)</td>\n",
       "      <td>(tropical fruit)</td>\n",
       "      <td>0.021386</td>\n",
       "      <td>0.067767</td>\n",
       "      <td>0.001537</td>\n",
       "      <td>0.071875</td>\n",
       "      <td>1.060617</td>\n",
       "      <td>8.785064e-05</td>\n",
       "      <td>1.004426</td>\n",
       "      <td>0.058402</td>\n",
       "    </tr>\n",
       "    <tr>\n",
       "      <th>2</th>\n",
       "      <td>(brown bread)</td>\n",
       "      <td>(beef)</td>\n",
       "      <td>0.037626</td>\n",
       "      <td>0.033950</td>\n",
       "      <td>0.001537</td>\n",
       "      <td>0.040853</td>\n",
       "      <td>1.203301</td>\n",
       "      <td>2.597018e-04</td>\n",
       "      <td>1.007196</td>\n",
       "      <td>0.175559</td>\n",
       "    </tr>\n",
       "    <tr>\n",
       "      <th>3</th>\n",
       "      <td>(beef)</td>\n",
       "      <td>(brown bread)</td>\n",
       "      <td>0.033950</td>\n",
       "      <td>0.037626</td>\n",
       "      <td>0.001537</td>\n",
       "      <td>0.045276</td>\n",
       "      <td>1.203301</td>\n",
       "      <td>2.597018e-04</td>\n",
       "      <td>1.008012</td>\n",
       "      <td>0.174891</td>\n",
       "    </tr>\n",
       "    <tr>\n",
       "      <th>4</th>\n",
       "      <td>(beef)</td>\n",
       "      <td>(citrus fruit)</td>\n",
       "      <td>0.033950</td>\n",
       "      <td>0.053131</td>\n",
       "      <td>0.001804</td>\n",
       "      <td>0.053150</td>\n",
       "      <td>1.000349</td>\n",
       "      <td>6.297697e-07</td>\n",
       "      <td>1.000020</td>\n",
       "      <td>0.000361</td>\n",
       "    </tr>\n",
       "    <tr>\n",
       "      <th>...</th>\n",
       "      <td>...</td>\n",
       "      <td>...</td>\n",
       "      <td>...</td>\n",
       "      <td>...</td>\n",
       "      <td>...</td>\n",
       "      <td>...</td>\n",
       "      <td>...</td>\n",
       "      <td>...</td>\n",
       "      <td>...</td>\n",
       "      <td>...</td>\n",
       "    </tr>\n",
       "    <tr>\n",
       "      <th>235</th>\n",
       "      <td>(sausage, whole milk)</td>\n",
       "      <td>(yogurt)</td>\n",
       "      <td>0.008955</td>\n",
       "      <td>0.085879</td>\n",
       "      <td>0.001470</td>\n",
       "      <td>0.164179</td>\n",
       "      <td>1.911760</td>\n",
       "      <td>7.012151e-04</td>\n",
       "      <td>1.093681</td>\n",
       "      <td>0.481231</td>\n",
       "    </tr>\n",
       "    <tr>\n",
       "      <th>236</th>\n",
       "      <td>(yogurt, whole milk)</td>\n",
       "      <td>(sausage)</td>\n",
       "      <td>0.011161</td>\n",
       "      <td>0.060349</td>\n",
       "      <td>0.001470</td>\n",
       "      <td>0.131737</td>\n",
       "      <td>2.182917</td>\n",
       "      <td>7.967480e-04</td>\n",
       "      <td>1.082219</td>\n",
       "      <td>0.548014</td>\n",
       "    </tr>\n",
       "    <tr>\n",
       "      <th>237</th>\n",
       "      <td>(sausage)</td>\n",
       "      <td>(yogurt, whole milk)</td>\n",
       "      <td>0.060349</td>\n",
       "      <td>0.011161</td>\n",
       "      <td>0.001470</td>\n",
       "      <td>0.024363</td>\n",
       "      <td>2.182917</td>\n",
       "      <td>7.967480e-04</td>\n",
       "      <td>1.013532</td>\n",
       "      <td>0.576701</td>\n",
       "    </tr>\n",
       "    <tr>\n",
       "      <th>238</th>\n",
       "      <td>(yogurt)</td>\n",
       "      <td>(sausage, whole milk)</td>\n",
       "      <td>0.085879</td>\n",
       "      <td>0.008955</td>\n",
       "      <td>0.001470</td>\n",
       "      <td>0.017121</td>\n",
       "      <td>1.911760</td>\n",
       "      <td>7.012151e-04</td>\n",
       "      <td>1.008307</td>\n",
       "      <td>0.521727</td>\n",
       "    </tr>\n",
       "    <tr>\n",
       "      <th>239</th>\n",
       "      <td>(whole milk)</td>\n",
       "      <td>(sausage, yogurt)</td>\n",
       "      <td>0.157923</td>\n",
       "      <td>0.005748</td>\n",
       "      <td>0.001470</td>\n",
       "      <td>0.009310</td>\n",
       "      <td>1.619866</td>\n",
       "      <td>5.626300e-04</td>\n",
       "      <td>1.003596</td>\n",
       "      <td>0.454430</td>\n",
       "    </tr>\n",
       "  </tbody>\n",
       "</table>\n",
       "<p>240 rows × 10 columns</p>\n",
       "</div>"
      ],
      "text/plain": [
       "               antecedents            consequents  antecedent support  \\\n",
       "0         (tropical fruit)             (UHT-milk)            0.067767   \n",
       "1               (UHT-milk)       (tropical fruit)            0.021386   \n",
       "2            (brown bread)                 (beef)            0.037626   \n",
       "3                   (beef)          (brown bread)            0.033950   \n",
       "4                   (beef)         (citrus fruit)            0.033950   \n",
       "..                     ...                    ...                 ...   \n",
       "235  (sausage, whole milk)               (yogurt)            0.008955   \n",
       "236   (yogurt, whole milk)              (sausage)            0.011161   \n",
       "237              (sausage)   (yogurt, whole milk)            0.060349   \n",
       "238               (yogurt)  (sausage, whole milk)            0.085879   \n",
       "239           (whole milk)      (sausage, yogurt)            0.157923   \n",
       "\n",
       "     consequent support   support  confidence      lift      leverage  \\\n",
       "0              0.021386  0.001537    0.022682  1.060617  8.785064e-05   \n",
       "1              0.067767  0.001537    0.071875  1.060617  8.785064e-05   \n",
       "2              0.033950  0.001537    0.040853  1.203301  2.597018e-04   \n",
       "3              0.037626  0.001537    0.045276  1.203301  2.597018e-04   \n",
       "4              0.053131  0.001804    0.053150  1.000349  6.297697e-07   \n",
       "..                  ...       ...         ...       ...           ...   \n",
       "235            0.085879  0.001470    0.164179  1.911760  7.012151e-04   \n",
       "236            0.060349  0.001470    0.131737  2.182917  7.967480e-04   \n",
       "237            0.011161  0.001470    0.024363  2.182917  7.967480e-04   \n",
       "238            0.008955  0.001470    0.017121  1.911760  7.012151e-04   \n",
       "239            0.005748  0.001470    0.009310  1.619866  5.626300e-04   \n",
       "\n",
       "     conviction  zhangs_metric  \n",
       "0      1.001326       0.061307  \n",
       "1      1.004426       0.058402  \n",
       "2      1.007196       0.175559  \n",
       "3      1.008012       0.174891  \n",
       "4      1.000020       0.000361  \n",
       "..          ...            ...  \n",
       "235    1.093681       0.481231  \n",
       "236    1.082219       0.548014  \n",
       "237    1.013532       0.576701  \n",
       "238    1.008307       0.521727  \n",
       "239    1.003596       0.454430  \n",
       "\n",
       "[240 rows x 10 columns]"
      ]
     },
     "execution_count": 31,
     "metadata": {},
     "output_type": "execute_result"
    }
   ],
   "source": [
    "# Viewing the rules\n",
    "my_rules"
   ]
  },
  {
   "cell_type": "markdown",
   "id": "db54a2eb",
   "metadata": {},
   "source": [
    "<a name=\"mode\"></a>\n",
    "# 5. Result Analysis\n",
    "---"
   ]
  },
  {
   "cell_type": "markdown",
   "id": "a9935083",
   "metadata": {},
   "source": [
    "<a name=\"met\"></a>\n",
    "## 5.1 Metric analysis\n",
    "---"
   ]
  },
  {
   "cell_type": "code",
   "execution_count": 32,
   "id": "9013ab2d",
   "metadata": {},
   "outputs": [
    {
     "data": {
      "image/png": "[encoded data removed]",
      "text/plain": [
       "<Figure size 1000x500 with 1 Axes>"
      ]
     },
     "metadata": {},
     "output_type": "display_data"
    }
   ],
   "source": [
    "plt.figure(figsize=(10, 5))\n",
    "sns.histplot(frequent_itemsets['support'], bins=30, kde=False)\n",
    "plt.title('Support Distribution of Frequent Itemsets')\n",
    "plt.xlabel('Support')\n",
    "plt.ylabel('Count')\n",
    "plt.show()"
   ]
  },
  {
   "cell_type": "markdown",
   "id": "67ea6612",
   "metadata": {},
   "source": [
    "**Insight**\n",
    "\n",
    "    The support distribution is right-skewed. The tail of the distribution extends towards higher support values, indicating that while there might be a few item sets with relatively high support, the majority tend to have lower support.\n",
    "    "
   ]
  },
  {
   "cell_type": "code",
   "execution_count": 33,
   "id": "ba4aa0c4",
   "metadata": {},
   "outputs": [
    {
     "data": {
      "image/png": "[encoded data removed]",
      "text/plain": [
       "<Figure size 1000x500 with 1 Axes>"
      ]
     },
     "metadata": {},
     "output_type": "display_data"
    }
   ],
   "source": [
    "top_n = 10 \n",
    "\n",
    "top_itemsets = frequent_itemsets.nlargest(top_n, 'support')\n",
    "\n",
    "plt.figure(figsize=(10, 5))\n",
    "sns.barplot(x='support', y='itemsets', data=top_itemsets, palette='viridis')\n",
    "plt.title(f'Top {top_n} Frequent Itemsets')\n",
    "plt.xlabel('Support')\n",
    "plt.ylabel('Itemsets')\n",
    "plt.show()"
   ]
  },
  {
   "cell_type": "markdown",
   "id": "d083a5ab",
   "metadata": {},
   "source": [
    "**Insight**\n",
    "    \n",
    "    The plot shows that items like whole milk, vegetables, and buns, have a higher support and occur more        frequently in the dataset. This implies that these items are frequently bought together with other items."
   ]
  },
  {
   "cell_type": "markdown",
   "id": "4fa03ede",
   "metadata": {},
   "source": [
    "<a name=\"net\"></a>\n",
    "## 5.1 Item Network analysis\n",
    "---\n",
    "\n",
    "În this section, we show a network visualization of our rule."
   ]
  },
  {
   "cell_type": "code",
   "execution_count": 34,
   "id": "56ac9c39",
   "metadata": {
    "scrolled": false
   },
   "outputs": [
    {
     "data": {
      "image/png": "[encoded data removed]",
      "text/plain": [
       "<Figure size 1500x700 with 1 Axes>"
      ]
     },
     "metadata": {},
     "output_type": "display_data"
    }
   ],
   "source": [
    "def Network_rules(rules, display_rules):\n",
    "    \"\"\"The function plots a network graph of antecedents and consequents\n",
    "    It takes in datasets and number of values to be displayed ad inputs\"\"\"\n",
    "    #Instantiate the graph\n",
    "    G = nx.DiGraph()\n",
    "    \n",
    "    color_map = []\n",
    "    N = 50\n",
    "    colors = np.random.rand(N)    \n",
    "    rule_strs = ['R0', 'R1', 'R2', 'R3', 'R4', 'R5', 'R6']   \n",
    "    \n",
    "    # Define the nodes and edges\n",
    "    for i in range(display_rules):      \n",
    "        G.add_nodes_from([\"R\"+str(i)])\n",
    "    \n",
    "        for a in rules.iloc[i]['antecedents']:\n",
    "            G.add_nodes_from([a])\n",
    "            G.add_edge(a, \"R\"+str(i), color=colors[i], weight=3)\n",
    "       \n",
    "        for c in rules.iloc[i]['consequents']:\n",
    "            G.add_nodes_from([a])\n",
    "            G.add_edge(\"R\"+str(i), c, color=colors[i], weight=3)\n",
    "            \n",
    "     # Define the color map for the nodes \n",
    "    for node in G:\n",
    "        color_map.append('skyblue' if node in rule_strs else 'red')\n",
    "    \n",
    "    # Define zthe network layout\n",
    "    pos = nx.kamada_kawai_layout(G, scale=2.0)\n",
    "    \n",
    "    # Create a Matplotlib figure and axis\n",
    "    fig, ax = plt.subplots(figsize=(15,7))\n",
    "    \n",
    "    # Draw nodes\n",
    "    nx.draw_networkx_nodes(G, pos, node_size=300, node_color=color_map, ax=ax)\n",
    "    \n",
    "    # Draw edges\n",
    "    for (i, j, k) in G.edges(data=True):\n",
    "        edge_color = [k['color']]  # Convert edge color to a list\n",
    "        nx.draw_networkx_edges(G, pos, edgelist=[(i, j)], edge_color=edge_color, width=k['weight'], ax=ax)\n",
    "    \n",
    "    # Draw labels\n",
    "    nx.draw_networkx_labels(G, pos, ax=ax)\n",
    "    \n",
    "    # Show the plot\n",
    "    plt.show()\n",
    "\n",
    "\n",
    "\n",
    "# Calling function \n",
    "Network_rules(my_rules.sample(10), 5)\n"
   ]
  },
  {
   "cell_type": "markdown",
   "id": "9553e50b",
   "metadata": {},
   "source": [
    "**Note** The arrow coming to the rules R0, R1, ..., R4(sky-blue circle) is from antecedents and the arrows going from rules R circle are towards consequents. The graph is dynamic and will change everything the code is run to show random samples of antecedents and their corresponding consequents from the rule table.\n"
   ]
  },
  {
   "cell_type": "markdown",
   "id": "8dccbe4f",
   "metadata": {},
   "source": [
    "<a name=\"map\"></a>\n",
    "## 5.1 Heat map analysis\n",
    "---\n"
   ]
  },
  {
   "cell_type": "code",
   "execution_count": 35,
   "id": "87d2dd6a",
   "metadata": {},
   "outputs": [
    {
     "data": {
      "text/html": [
       "<div>\n",
       "<style scoped>\n",
       "    .dataframe tbody tr th:only-of-type {\n",
       "        vertical-align: middle;\n",
       "    }\n",
       "\n",
       "    .dataframe tbody tr th {\n",
       "        vertical-align: top;\n",
       "    }\n",
       "\n",
       "    .dataframe thead th {\n",
       "        text-align: right;\n",
       "    }\n",
       "</style>\n",
       "<table border=\"1\" class=\"dataframe\">\n",
       "  <thead>\n",
       "    <tr style=\"text-align: right;\">\n",
       "      <th></th>\n",
       "      <th>antecedents</th>\n",
       "      <th>consequents</th>\n",
       "      <th>antecedent support</th>\n",
       "      <th>consequent support</th>\n",
       "      <th>support</th>\n",
       "      <th>confidence</th>\n",
       "      <th>lift</th>\n",
       "      <th>leverage</th>\n",
       "      <th>conviction</th>\n",
       "      <th>zhangs_metric</th>\n",
       "      <th>antecedent_num</th>\n",
       "    </tr>\n",
       "  </thead>\n",
       "  <tbody>\n",
       "    <tr>\n",
       "      <th>236</th>\n",
       "      <td>(yogurt, whole milk)</td>\n",
       "      <td>(sausage)</td>\n",
       "      <td>0.011161</td>\n",
       "      <td>0.060349</td>\n",
       "      <td>0.001470</td>\n",
       "      <td>0.131737</td>\n",
       "      <td>2.182917</td>\n",
       "      <td>0.000797</td>\n",
       "      <td>1.082219</td>\n",
       "      <td>0.548014</td>\n",
       "      <td>2</td>\n",
       "    </tr>\n",
       "    <tr>\n",
       "      <th>235</th>\n",
       "      <td>(sausage, whole milk)</td>\n",
       "      <td>(yogurt)</td>\n",
       "      <td>0.008955</td>\n",
       "      <td>0.085879</td>\n",
       "      <td>0.001470</td>\n",
       "      <td>0.164179</td>\n",
       "      <td>1.911760</td>\n",
       "      <td>0.000701</td>\n",
       "      <td>1.093681</td>\n",
       "      <td>0.481231</td>\n",
       "      <td>2</td>\n",
       "    </tr>\n",
       "    <tr>\n",
       "      <th>234</th>\n",
       "      <td>(sausage, yogurt)</td>\n",
       "      <td>(whole milk)</td>\n",
       "      <td>0.005748</td>\n",
       "      <td>0.157923</td>\n",
       "      <td>0.001470</td>\n",
       "      <td>0.255814</td>\n",
       "      <td>1.619866</td>\n",
       "      <td>0.000563</td>\n",
       "      <td>1.131541</td>\n",
       "      <td>0.384877</td>\n",
       "      <td>2</td>\n",
       "    </tr>\n",
       "    <tr>\n",
       "      <th>230</th>\n",
       "      <td>(soda, whole milk)</td>\n",
       "      <td>(sausage)</td>\n",
       "      <td>0.011629</td>\n",
       "      <td>0.060349</td>\n",
       "      <td>0.001069</td>\n",
       "      <td>0.091954</td>\n",
       "      <td>1.523708</td>\n",
       "      <td>0.000368</td>\n",
       "      <td>1.034806</td>\n",
       "      <td>0.347750</td>\n",
       "      <td>2</td>\n",
       "    </tr>\n",
       "    <tr>\n",
       "      <th>218</th>\n",
       "      <td>(rolls/buns, whole milk)</td>\n",
       "      <td>(sausage)</td>\n",
       "      <td>0.013968</td>\n",
       "      <td>0.060349</td>\n",
       "      <td>0.001136</td>\n",
       "      <td>0.081340</td>\n",
       "      <td>1.347825</td>\n",
       "      <td>0.000293</td>\n",
       "      <td>1.022849</td>\n",
       "      <td>0.261720</td>\n",
       "      <td>2</td>\n",
       "    </tr>\n",
       "  </tbody>\n",
       "</table>\n",
       "</div>"
      ],
      "text/plain": [
       "                  antecedents   consequents  antecedent support  \\\n",
       "236      (yogurt, whole milk)     (sausage)            0.011161   \n",
       "235     (sausage, whole milk)      (yogurt)            0.008955   \n",
       "234         (sausage, yogurt)  (whole milk)            0.005748   \n",
       "230        (soda, whole milk)     (sausage)            0.011629   \n",
       "218  (rolls/buns, whole milk)     (sausage)            0.013968   \n",
       "\n",
       "     consequent support   support  confidence      lift  leverage  conviction  \\\n",
       "236            0.060349  0.001470    0.131737  2.182917  0.000797    1.082219   \n",
       "235            0.085879  0.001470    0.164179  1.911760  0.000701    1.093681   \n",
       "234            0.157923  0.001470    0.255814  1.619866  0.000563    1.131541   \n",
       "230            0.060349  0.001069    0.091954  1.523708  0.000368    1.034806   \n",
       "218            0.060349  0.001136    0.081340  1.347825  0.000293    1.022849   \n",
       "\n",
       "     zhangs_metric  antecedent_num  \n",
       "236       0.548014               2  \n",
       "235       0.481231               2  \n",
       "234       0.384877               2  \n",
       "230       0.347750               2  \n",
       "218       0.261720               2  "
      ]
     },
     "execution_count": 35,
     "metadata": {},
     "output_type": "execute_result"
    }
   ],
   "source": [
    "my_rules['antecedent_num'] = my_rules['antecedents'].apply(lambda x:len(x) )\n",
    "my_rules[my_rules['antecedent_num']>1].sort_values('lift', ascending=False).head()"
   ]
  },
  {
   "cell_type": "code",
   "execution_count": 36,
   "id": "fbd2b9e4",
   "metadata": {},
   "outputs": [
    {
     "data": {
      "text/html": [
       "<div>\n",
       "<style scoped>\n",
       "    .dataframe tbody tr th:only-of-type {\n",
       "        vertical-align: middle;\n",
       "    }\n",
       "\n",
       "    .dataframe tbody tr th {\n",
       "        vertical-align: top;\n",
       "    }\n",
       "\n",
       "    .dataframe thead th {\n",
       "        text-align: right;\n",
       "    }\n",
       "</style>\n",
       "<table border=\"1\" class=\"dataframe\">\n",
       "  <thead>\n",
       "    <tr style=\"text-align: right;\">\n",
       "      <th></th>\n",
       "      <th>antecedents</th>\n",
       "      <th>consequents</th>\n",
       "      <th>antecedent support</th>\n",
       "      <th>consequent support</th>\n",
       "      <th>support</th>\n",
       "      <th>confidence</th>\n",
       "      <th>lift</th>\n",
       "      <th>leverage</th>\n",
       "      <th>conviction</th>\n",
       "      <th>zhangs_metric</th>\n",
       "      <th>antecedent_num</th>\n",
       "      <th>antecedents_items</th>\n",
       "      <th>consequents_items</th>\n",
       "    </tr>\n",
       "  </thead>\n",
       "  <tbody>\n",
       "    <tr>\n",
       "      <th>0</th>\n",
       "      <td>(tropical fruit)</td>\n",
       "      <td>(UHT-milk)</td>\n",
       "      <td>0.067767</td>\n",
       "      <td>0.021386</td>\n",
       "      <td>0.001537</td>\n",
       "      <td>0.022682</td>\n",
       "      <td>1.060617</td>\n",
       "      <td>8.785064e-05</td>\n",
       "      <td>1.001326</td>\n",
       "      <td>0.061307</td>\n",
       "      <td>1</td>\n",
       "      <td>tropical fruit</td>\n",
       "      <td>UHT-milk</td>\n",
       "    </tr>\n",
       "    <tr>\n",
       "      <th>1</th>\n",
       "      <td>(UHT-milk)</td>\n",
       "      <td>(tropical fruit)</td>\n",
       "      <td>0.021386</td>\n",
       "      <td>0.067767</td>\n",
       "      <td>0.001537</td>\n",
       "      <td>0.071875</td>\n",
       "      <td>1.060617</td>\n",
       "      <td>8.785064e-05</td>\n",
       "      <td>1.004426</td>\n",
       "      <td>0.058402</td>\n",
       "      <td>1</td>\n",
       "      <td>UHT-milk</td>\n",
       "      <td>tropical fruit</td>\n",
       "    </tr>\n",
       "    <tr>\n",
       "      <th>2</th>\n",
       "      <td>(brown bread)</td>\n",
       "      <td>(beef)</td>\n",
       "      <td>0.037626</td>\n",
       "      <td>0.033950</td>\n",
       "      <td>0.001537</td>\n",
       "      <td>0.040853</td>\n",
       "      <td>1.203301</td>\n",
       "      <td>2.597018e-04</td>\n",
       "      <td>1.007196</td>\n",
       "      <td>0.175559</td>\n",
       "      <td>1</td>\n",
       "      <td>brown bread</td>\n",
       "      <td>beef</td>\n",
       "    </tr>\n",
       "    <tr>\n",
       "      <th>3</th>\n",
       "      <td>(beef)</td>\n",
       "      <td>(brown bread)</td>\n",
       "      <td>0.033950</td>\n",
       "      <td>0.037626</td>\n",
       "      <td>0.001537</td>\n",
       "      <td>0.045276</td>\n",
       "      <td>1.203301</td>\n",
       "      <td>2.597018e-04</td>\n",
       "      <td>1.008012</td>\n",
       "      <td>0.174891</td>\n",
       "      <td>1</td>\n",
       "      <td>beef</td>\n",
       "      <td>brown bread</td>\n",
       "    </tr>\n",
       "    <tr>\n",
       "      <th>4</th>\n",
       "      <td>(beef)</td>\n",
       "      <td>(citrus fruit)</td>\n",
       "      <td>0.033950</td>\n",
       "      <td>0.053131</td>\n",
       "      <td>0.001804</td>\n",
       "      <td>0.053150</td>\n",
       "      <td>1.000349</td>\n",
       "      <td>6.297697e-07</td>\n",
       "      <td>1.000020</td>\n",
       "      <td>0.000361</td>\n",
       "      <td>1</td>\n",
       "      <td>beef</td>\n",
       "      <td>citrus fruit</td>\n",
       "    </tr>\n",
       "  </tbody>\n",
       "</table>\n",
       "</div>"
      ],
      "text/plain": [
       "        antecedents       consequents  antecedent support  consequent support  \\\n",
       "0  (tropical fruit)        (UHT-milk)            0.067767            0.021386   \n",
       "1        (UHT-milk)  (tropical fruit)            0.021386            0.067767   \n",
       "2     (brown bread)            (beef)            0.037626            0.033950   \n",
       "3            (beef)     (brown bread)            0.033950            0.037626   \n",
       "4            (beef)    (citrus fruit)            0.033950            0.053131   \n",
       "\n",
       "    support  confidence      lift      leverage  conviction  zhangs_metric  \\\n",
       "0  0.001537    0.022682  1.060617  8.785064e-05    1.001326       0.061307   \n",
       "1  0.001537    0.071875  1.060617  8.785064e-05    1.004426       0.058402   \n",
       "2  0.001537    0.040853  1.203301  2.597018e-04    1.007196       0.175559   \n",
       "3  0.001537    0.045276  1.203301  2.597018e-04    1.008012       0.174891   \n",
       "4  0.001804    0.053150  1.000349  6.297697e-07    1.000020       0.000361   \n",
       "\n",
       "   antecedent_num antecedents_items consequents_items  \n",
       "0               1    tropical fruit          UHT-milk  \n",
       "1               1          UHT-milk    tropical fruit  \n",
       "2               1       brown bread              beef  \n",
       "3               1              beef       brown bread  \n",
       "4               1              beef      citrus fruit  "
      ]
     },
     "execution_count": 36,
     "metadata": {},
     "output_type": "execute_result"
    }
   ],
   "source": [
    "# Replace frozen sets with strings\n",
    "my_rules['antecedents_items'] = my_rules['antecedents'].apply(lambda a: ','.join(list(a)))\n",
    "my_rules['consequents_items'] = my_rules['consequents'].apply(lambda a: ','.join(list(a)))\n",
    "my_rules.head()"
   ]
  },
  {
   "cell_type": "code",
   "execution_count": 37,
   "id": "fb1620b4",
   "metadata": {},
   "outputs": [
    {
     "data": {
      "text/html": [
       "<div>\n",
       "<style scoped>\n",
       "    .dataframe tbody tr th:only-of-type {\n",
       "        vertical-align: middle;\n",
       "    }\n",
       "\n",
       "    .dataframe tbody tr th {\n",
       "        vertical-align: top;\n",
       "    }\n",
       "\n",
       "    .dataframe thead th {\n",
       "        text-align: right;\n",
       "    }\n",
       "</style>\n",
       "<table border=\"1\" class=\"dataframe\">\n",
       "  <thead>\n",
       "    <tr style=\"text-align: right;\">\n",
       "      <th>consequents_items</th>\n",
       "      <th>other vegetables</th>\n",
       "      <th>rolls/buns</th>\n",
       "      <th>sausage</th>\n",
       "      <th>soda</th>\n",
       "      <th>whole milk</th>\n",
       "      <th>yogurt</th>\n",
       "    </tr>\n",
       "    <tr>\n",
       "      <th>antecedents_items</th>\n",
       "      <th></th>\n",
       "      <th></th>\n",
       "      <th></th>\n",
       "      <th></th>\n",
       "      <th></th>\n",
       "      <th></th>\n",
       "    </tr>\n",
       "  </thead>\n",
       "  <tbody>\n",
       "    <tr>\n",
       "      <th>other vegetables,rolls/buns</th>\n",
       "      <td>NaN</td>\n",
       "      <td>NaN</td>\n",
       "      <td>NaN</td>\n",
       "      <td>1.108013</td>\n",
       "      <td>NaN</td>\n",
       "      <td>NaN</td>\n",
       "    </tr>\n",
       "    <tr>\n",
       "      <th>other vegetables,soda</th>\n",
       "      <td>NaN</td>\n",
       "      <td>1.065785</td>\n",
       "      <td>NaN</td>\n",
       "      <td>NaN</td>\n",
       "      <td>NaN</td>\n",
       "      <td>NaN</td>\n",
       "    </tr>\n",
       "    <tr>\n",
       "      <th>rolls/buns,soda</th>\n",
       "      <td>1.150651</td>\n",
       "      <td>NaN</td>\n",
       "      <td>NaN</td>\n",
       "      <td>NaN</td>\n",
       "      <td>NaN</td>\n",
       "      <td>NaN</td>\n",
       "    </tr>\n",
       "    <tr>\n",
       "      <th>rolls/buns,whole milk</th>\n",
       "      <td>NaN</td>\n",
       "      <td>NaN</td>\n",
       "      <td>1.347825</td>\n",
       "      <td>NaN</td>\n",
       "      <td>NaN</td>\n",
       "      <td>1.114293</td>\n",
       "    </tr>\n",
       "    <tr>\n",
       "      <th>rolls/buns,yogurt</th>\n",
       "      <td>NaN</td>\n",
       "      <td>NaN</td>\n",
       "      <td>NaN</td>\n",
       "      <td>NaN</td>\n",
       "      <td>1.082428</td>\n",
       "      <td>NaN</td>\n",
       "    </tr>\n",
       "    <tr>\n",
       "      <th>sausage,rolls/buns</th>\n",
       "      <td>NaN</td>\n",
       "      <td>NaN</td>\n",
       "      <td>NaN</td>\n",
       "      <td>NaN</td>\n",
       "      <td>1.345594</td>\n",
       "      <td>NaN</td>\n",
       "    </tr>\n",
       "    <tr>\n",
       "      <th>sausage,soda</th>\n",
       "      <td>NaN</td>\n",
       "      <td>NaN</td>\n",
       "      <td>NaN</td>\n",
       "      <td>NaN</td>\n",
       "      <td>1.138374</td>\n",
       "      <td>NaN</td>\n",
       "    </tr>\n",
       "    <tr>\n",
       "      <th>sausage,whole milk</th>\n",
       "      <td>NaN</td>\n",
       "      <td>1.153275</td>\n",
       "      <td>NaN</td>\n",
       "      <td>1.229612</td>\n",
       "      <td>NaN</td>\n",
       "      <td>1.911760</td>\n",
       "    </tr>\n",
       "    <tr>\n",
       "      <th>sausage,yogurt</th>\n",
       "      <td>NaN</td>\n",
       "      <td>NaN</td>\n",
       "      <td>NaN</td>\n",
       "      <td>NaN</td>\n",
       "      <td>1.619866</td>\n",
       "      <td>NaN</td>\n",
       "    </tr>\n",
       "    <tr>\n",
       "      <th>soda,whole milk</th>\n",
       "      <td>NaN</td>\n",
       "      <td>NaN</td>\n",
       "      <td>1.523708</td>\n",
       "      <td>NaN</td>\n",
       "      <td>NaN</td>\n",
       "      <td>NaN</td>\n",
       "    </tr>\n",
       "    <tr>\n",
       "      <th>yogurt,whole milk</th>\n",
       "      <td>NaN</td>\n",
       "      <td>1.088685</td>\n",
       "      <td>2.182917</td>\n",
       "      <td>NaN</td>\n",
       "      <td>NaN</td>\n",
       "      <td>NaN</td>\n",
       "    </tr>\n",
       "  </tbody>\n",
       "</table>\n",
       "</div>"
      ],
      "text/plain": [
       "consequents_items            other vegetables  rolls/buns   sausage      soda  \\\n",
       "antecedents_items                                                               \n",
       "other vegetables,rolls/buns               NaN         NaN       NaN  1.108013   \n",
       "other vegetables,soda                     NaN    1.065785       NaN       NaN   \n",
       "rolls/buns,soda                      1.150651         NaN       NaN       NaN   \n",
       "rolls/buns,whole milk                     NaN         NaN  1.347825       NaN   \n",
       "rolls/buns,yogurt                         NaN         NaN       NaN       NaN   \n",
       "sausage,rolls/buns                        NaN         NaN       NaN       NaN   \n",
       "sausage,soda                              NaN         NaN       NaN       NaN   \n",
       "sausage,whole milk                        NaN    1.153275       NaN  1.229612   \n",
       "sausage,yogurt                            NaN         NaN       NaN       NaN   \n",
       "soda,whole milk                           NaN         NaN  1.523708       NaN   \n",
       "yogurt,whole milk                         NaN    1.088685  2.182917       NaN   \n",
       "\n",
       "consequents_items            whole milk    yogurt  \n",
       "antecedents_items                                  \n",
       "other vegetables,rolls/buns         NaN       NaN  \n",
       "other vegetables,soda               NaN       NaN  \n",
       "rolls/buns,soda                     NaN       NaN  \n",
       "rolls/buns,whole milk               NaN  1.114293  \n",
       "rolls/buns,yogurt              1.082428       NaN  \n",
       "sausage,rolls/buns             1.345594       NaN  \n",
       "sausage,soda                   1.138374       NaN  \n",
       "sausage,whole milk                  NaN  1.911760  \n",
       "sausage,yogurt                 1.619866       NaN  \n",
       "soda,whole milk                     NaN       NaN  \n",
       "yogurt,whole milk                   NaN       NaN  "
      ]
     },
     "execution_count": 37,
     "metadata": {},
     "output_type": "execute_result"
    }
   ],
   "source": [
    "# Transform the DataFrame of rules into a matrix using the lift metric and \n",
    "#taking only entries with lift greater than 1\n",
    "\n",
    "pivot_matrix = my_rules[my_rules['antecedent_num']>1].pivot(index = 'antecedents_items', \n",
    "                    columns = 'consequents_items', values= 'lift')\n",
    "pivot_matrix"
   ]
  },
  {
   "cell_type": "code",
   "execution_count": 38,
   "id": "2ec3b3d7",
   "metadata": {},
   "outputs": [
    {
     "data": {
      "image/png": "[encoded data removed]",
      "text/plain": [
       "<Figure size 640x480 with 2 Axes>"
      ]
     },
     "metadata": {},
     "output_type": "display_data"
    }
   ],
   "source": [
    "# Visualize the pivot matrix result with a heatmap and annotations on\n",
    "sns.heatmap(pivot_matrix, annot = True)\n",
    "plt.yticks(rotation=0)\n",
    "plt.xticks(rotation=90)\n",
    "plt.xlabel(\"Consequents Items\")\n",
    "plt.ylabel(\"Antecedents Items\")\n",
    "plt.show()"
   ]
  },
  {
   "cell_type": "markdown",
   "id": "5c88ffa0",
   "metadata": {},
   "source": [
    "**Insights**\n",
    "    \n",
    "(1) From the heatmap, we can deduce that there exists a strong relationship between `yogurt`, `whole milk`, and `sausage`. These three items are likely to be bought together in a transaction.\n",
    "    \n",
    "(2) Customers who bought `soda` and `whole milk` are also likely to buy `sausage`.\n",
    "    \n",
    "(3) We can also observe some relationship between `buns`, `whole milk`, and `sausage`.\n",
    "\n",
    "    "
   ]
  },
  {
   "cell_type": "markdown",
   "id": "f71b8416",
   "metadata": {},
   "source": [
    "<a name=\"con\"></a>\n",
    "# 6. Recommendation and Conclusion\n",
    "---\n"
   ]
  },
  {
   "cell_type": "markdown",
   "id": "26c77aa8",
   "metadata": {},
   "source": [
    "<a name=\"rec\"></a>\n",
    "## 6.1 Recommendation\n",
    "---\n",
    "\n",
    "From our analysis starting from exploration to the market basket analysis, we observed and made the following recommendations:\n",
    "    \n",
    "(1) Items such as whole milk, vegetables, buns, and yogurt are most frequently bought hence the retail companies should make sure these items are always in stock back checking on them daily. \n",
    "    \n",
    "(2) The retail company can investigate the factors that are likely the major drive for the high sales in August and January 2015. These factors can be capitalized upon to improve sales.\n",
    "    \n",
    "(3) Knowing the most frequent customers to the store is good information that can be used by the company to perform customers' royalty programs and also encourage and draw in more customers.\n",
    "    \n",
    "(4) Items such as soda, whole milk, sausage, and yogurt are likely to be bought in a transaction. Hence:\n",
    "    \n",
    "    (i) The shelves containing these items can be placed close to each other for easy accessibility by \n",
    "    customers.\n",
    "    \n",
    "    (ii) These items can be bundled together as package sales such that the price is lower compared to each \n",
    "    price combined. This way will attract more sales and generate more income for the company.\n",
    "\n",
    " "
   ]
  },
  {
   "cell_type": "markdown",
   "id": "af185ee5",
   "metadata": {},
   "source": [
    "<a name=\"conl\"></a>\n",
    "## 6.2 Conclusion\n",
    "---"
   ]
  },
  {
   "cell_type": "markdown",
   "id": "1ba20a58",
   "metadata": {},
   "source": [
    "The goal of this project was to perform a market basket analysis to uncover patterns in customer purchasing behavior. We started by exploring accessing, cleaning then exploring the dataset. We performed the market basket analysis using a transaction encoder, Apriori algorithm, and associative rule. Our analysis shows that customers are likely to purchase Whole milk, yogurt, soda, buns, and sausage together. We made recommendations based on our analysis results. This information can be used by the retail company to make active decisions that can improve their sales and customer services."
   ]
  },
  {
   "attachments": {},
   "cell_type": "markdown",
   "id": "2acc268c",
   "metadata": {},
   "source": [
    "![](https://media.istockphoto.com/id/1147584034/vector/thank-you-thanks-expressing-gratitude-note-on-a-sign.jpg?s=612x612&w=0&k=20&c=Pw2CDN2dgiYe4_pzh4PaZRyAahZf1u5iJE_xd4jQCao=)"
   ]
  }
 ],
 "metadata": {
  "kernelspec": {
   "display_name": "Python 3 (ipykernel)",
   "language": "python",
   "name": "python3"
  },
  "language_info": {
   "codemirror_mode": {
    "name": "ipython",
    "version": 3
   },
   "file_extension": ".py",
   "mimetype": "text/x-python",
   "name": "python",
   "nbconvert_exporter": "python",
   "pygments_lexer": "ipython3",
   "version": "3.10.9"
  }
 },
 "nbformat": 4,
 "nbformat_minor": 5
}
